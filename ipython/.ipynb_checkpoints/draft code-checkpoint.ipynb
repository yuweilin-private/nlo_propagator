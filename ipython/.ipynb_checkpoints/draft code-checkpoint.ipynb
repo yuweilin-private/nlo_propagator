{
 "cells": [
  {
   "cell_type": "code",
   "execution_count": 1,
   "metadata": {
    "collapsed": false
   },
   "outputs": [],
   "source": [
    "# Written in python3\n",
    "import numpy as np\n",
    "import matplotlib\n",
    "matplotlib.use('Pdf')\n",
    "import matplotlib.pyplot as plt\n",
    "%matplotlib inline\n",
    "\n",
    "c = 299792458\n",
    "# all the frequencies are 'angular frequency'.\n",
    "# all the quantities are in SI units unless specified."
   ]
  },
  {
   "cell_type": "code",
   "execution_count": null,
   "metadata": {
    "collapsed": true
   },
   "outputs": [],
   "source": [
    "# electric field\n",
    "\n",
    "class ElectricField:\n",
    "    ''' electric field:\n",
    "        - variables:\n",
    "            frequency: sampling frequency (\\Omega)\n",
    "            fields: { (mode, harmonic): [center frequency, field] }, eg. { (0, 'FH'): [float, numpy array] }\n",
    "        - methods:\n",
    "            addField:\n",
    "                @ mode, harmonic, frequency, field\n",
    "    '''\n",
    "    def __init__(self, fields = {}):\n",
    "        self.fields = fields\n",
    "    \n",
    "    def addField(self, mode, harmonic, frequency, field):\n",
    "        if (mode, harmonic) in self.fields:\n",
    "            isReplace = True if input('Field exists. Replace? y/n: ') == 'y' else False\n",
    "            if not isReplace: return\n",
    "        self.fields[(mode, harmonic)] = [frequency, field]\n",
    "    \n",
    "    def copy(self):\n",
    "        pass\n",
    "    \n",
    "    def save(self, filename, description=''):\n",
    "        pass\n",
    "        \n",
    "    def __str__(self):\n",
    "        pass"
   ]
  },
  {
   "cell_type": "code",
   "execution_count": null,
   "metadata": {
    "collapsed": true
   },
   "outputs": [],
   "source": [
    "# propagator\n",
    "class Propagator:\n",
    "    '''\n",
    "    '''\n",
    "\n",
    "class LinearMaterial(Propagator):\n",
    "    '''\n",
    "    '''\n",
    "    \n",
    "class NonlinearMaterial(Propafator):\n",
    "    '''\n",
    "    '''"
   ]
  }
 ],
 "metadata": {
  "kernelspec": {
   "display_name": "Python 3",
   "language": "python",
   "name": "python3"
  },
  "language_info": {
   "codemirror_mode": {
    "name": "ipython",
    "version": 3
   },
   "file_extension": ".py",
   "mimetype": "text/x-python",
   "name": "python",
   "nbconvert_exporter": "python",
   "pygments_lexer": "ipython3",
   "version": "3.4.3"
  }
 },
 "nbformat": 4,
 "nbformat_minor": 0
}
